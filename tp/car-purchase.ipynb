{
 "cells": [
  {
   "cell_type": "code",
   "execution_count": null,
   "metadata": {},
   "outputs": [],
   "source": [
    "import pandas as pd\n",
    "from sklearn.tree import DecisionTreeClassifier\n",
    "import joblib\n",
    "\n",
    "car_df = pd.read_csv('./data/car_data.csv')\n",
    "\n",
    "#Convert male to number 1 and female to number 0\n",
    "car_df['Gender'] = car_df['Gender'].replace('Male', 1)\n",
    "car_df['Gender'] = car_df['Gender'].replace('Female', 0)\n",
    "\n",
    "X = car_df[['Gender', 'Age', 'AnnualSalary']]\n",
    "y = car_df['Purchased']\n",
    "\n",
    "model = DecisionTreeClassifier()\n",
    "model.fit(X.values, y.values)\n",
    "\n",
    "#Model persistance\n",
    "joblib.dump(model, 'car-purchase.joblib')"
   ]
  },
  {
   "cell_type": "code",
   "execution_count": null,
   "metadata": {},
   "outputs": [],
   "source": [
    "import joblib\n",
    "\n",
    "#Model import\n",
    "model = joblib.load(filename='car-purchase.joblib')\n",
    "\n",
    "#Prediction\n",
    "predictions = model.predict([[1, 40, 145000]])\n",
    "predictions"
   ]
  },
  {
   "cell_type": "code",
   "execution_count": 42,
   "metadata": {},
   "outputs": [],
   "source": [
    "import pandas as pd\n",
    "from sklearn.tree import DecisionTreeClassifier, export_graphviz\n",
    "\n",
    "car_df = pd.read_csv('./data/car_data.csv')\n",
    "\n",
    "# Convert male to number 1 and female to number 0\n",
    "car_df['Gender'] = car_df['Gender'].replace('Male', 1)\n",
    "car_df['Gender'] = car_df['Gender'].replace('Female', 0)\n",
    "\n",
    "X = car_df[['Gender', 'Age', 'AnnualSalary']]\n",
    "y = car_df['Purchased']\n",
    "\n",
    "model = DecisionTreeClassifier()\n",
    "model.fit(X, y)\n",
    "\n",
    "export_graphviz(\n",
    "    model,\n",
    "    out_file='car-purchase.dot',\n",
    "    feature_names=['Gender', 'Age', 'AnnualSalary'],\n",
    "    class_names=list(map(str, sorted(y.unique()))),  # Convert class names to strings\n",
    "    label='all',\n",
    "    filled=True\n",
    ")"
   ]
  }
 ],
 "metadata": {
  "kernelspec": {
   "display_name": "tp-venv",
   "language": "python",
   "name": "python3"
  },
  "language_info": {
   "codemirror_mode": {
    "name": "ipython",
    "version": 3
   },
   "file_extension": ".py",
   "mimetype": "text/x-python",
   "name": "python",
   "nbconvert_exporter": "python",
   "pygments_lexer": "ipython3",
   "version": "3.9.13"
  }
 },
 "nbformat": 4,
 "nbformat_minor": 2
}
